{
  "nbformat": 4,
  "nbformat_minor": 0,
  "metadata": {
    "colab": {
      "provenance": []
    },
    "kernelspec": {
      "name": "python3",
      "display_name": "Python 3"
    },
    "language_info": {
      "name": "python"
    }
  },
  "cells": [
    {
      "cell_type": "code",
      "source": [
        "from google.colab import drive\n",
        "drive.mount('/content/drive')"
      ],
      "metadata": {
        "colab": {
          "base_uri": "https://localhost:8080/"
        },
        "id": "50O9drta4IjZ",
        "outputId": "461ff6ba-3e8a-407d-fc9e-eb305ef4806c"
      },
      "execution_count": 1,
      "outputs": [
        {
          "output_type": "stream",
          "name": "stdout",
          "text": [
            "Mounted at /content/drive\n"
          ]
        }
      ]
    },
    {
      "cell_type": "code",
      "execution_count": 2,
      "metadata": {
        "id": "UJ1tv6YF4EqX"
      },
      "outputs": [],
      "source": [
        "import joblib\n",
        "import numpy as np\n",
        "import librosa\n",
        "\n",
        "\n",
        "# 모델 로드\n",
        "model = joblib.load('/content/drive/MyDrive/model/new_model.pkl') ##모델 경로\n"
      ]
    },
    {
      "cell_type": "code",
      "source": [
        "def predict_sound(audio_file):\n",
        "  # 추임새 판별을 위한 임시 음성 파일 생성\n",
        "  labels = ['crying', 'shouting']\n",
        "  y, sr = librosa.load(audio_file, mono=True, duration=1)\n",
        "\n",
        "  mfcc = librosa.feature.mfcc(y=y, sr=sr,n_mfcc=100)\n",
        "\n",
        "  buffer = []\n",
        "\n",
        "  for element in mfcc:\n",
        "    buffer.append(np.mean(element))  \n",
        "  x_test = np.array([buffer])\n",
        "\n",
        "  y_predict = model.predict(x_test)\n",
        "  label = labels[y_predict[0]]\n",
        "\n",
        "\n",
        "  return(label)"
      ],
      "metadata": {
        "id": "txC1j-a34IAv"
      },
      "execution_count": 5,
      "outputs": []
    },
    {
      "cell_type": "code",
      "source": [
        "predict_sound('/content/drive/MyDrive/testdata/s37_0.wav') ##파일 경로"
      ],
      "metadata": {
        "colab": {
          "base_uri": "https://localhost:8080/",
          "height": 35
        },
        "id": "bW2gQF8O5El5",
        "outputId": "23e654dc-c11d-4542-92c6-7dfc83132932"
      },
      "execution_count": 6,
      "outputs": [
        {
          "output_type": "execute_result",
          "data": {
            "text/plain": [
              "'shouting'"
            ],
            "application/vnd.google.colaboratory.intrinsic+json": {
              "type": "string"
            }
          },
          "metadata": {},
          "execution_count": 6
        }
      ]
    }
  ]
}