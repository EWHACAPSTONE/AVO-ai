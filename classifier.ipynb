{
  "nbformat": 4,
  "nbformat_minor": 0,
  "metadata": {
    "colab": {
      "provenance": []
    },
    "kernelspec": {
      "name": "python3",
      "display_name": "Python 3"
    },
    "language_info": {
      "name": "python"
    }
  },
  "cells": [
    {
      "cell_type": "code",
      "source": [
        "from google.colab import drive\n",
        "drive.mount('/content/drive')"
      ],
      "metadata": {
        "colab": {
          "base_uri": "https://localhost:8080/"
        },
        "id": "50O9drta4IjZ",
        "outputId": "fdfdd82e-24b1-435c-f5ac-4b88ba1ae916"
      },
      "execution_count": null,
      "outputs": [
        {
          "output_type": "stream",
          "name": "stdout",
          "text": [
            "Mounted at /content/drive\n"
          ]
        }
      ]
    },
    {
      "cell_type": "code",
      "execution_count": null,
      "metadata": {
        "id": "UJ1tv6YF4EqX"
      },
      "outputs": [],
      "source": [
        "import joblib\n",
        "import numpy as np\n",
        "import librosa\n",
        "\n",
        "\n",
        "# 모델 로드\n",
        "model = joblib.load('/content/drive/MyDrive/model/final_model.pkl') ##모델 경로\n"
      ]
    },
    {
      "cell_type": "code",
      "source": [
        "pad2d = lambda a, i: a[:, 0:i] if a.shape[1] > i else np.hstack((a, np.zeros((a.shape[0], i-a.shape[1]))))\n",
        "def predict_sound(audio_file):\n",
        "  # 추임새 판별을 위한 임시 음성 파일 생성\n",
        "  labels = ['crying', 'shouting']\n",
        "  y, sr = librosa.load(audio_file, mono=True, duration=5)\n",
        "\n",
        "  mfcc = librosa.feature.mfcc(y=y, sr=sr)\n",
        "  padded_mfcc = pad2d(mfcc, 500)\n",
        "\n",
        "  buffer = []\n",
        "\n",
        "  for element in padded_mfcc:\n",
        "    buffer.append(np.mean(element))  \n",
        "  x_test = np.array([buffer])\n",
        "\n",
        "  y_predict = model.predict(x_test)\n",
        "  label = labels[y_predict[0]]\n",
        "  y_predict = model.predict_proba(x_test)\n",
        "  confidence = y_predict[0][y_predict[0].argmax()]\n",
        "\n",
        "\n",
        "  if confidence < 0.7:\n",
        "    label = \"nothing\"\n",
        "\n",
        "  print(confidence)\n",
        "  return label"
      ],
      "metadata": {
        "id": "txC1j-a34IAv"
      },
      "execution_count": null,
      "outputs": []
    },
    {
      "cell_type": "code",
      "source": [
        "predict_sound('/content/drive/MyDrive/testdata/KakaoTalk_Audio_2023-05-25-20-20-07.wav')"
      ],
      "metadata": {
        "colab": {
          "base_uri": "https://localhost:8080/",
          "height": 53
        },
        "id": "weAyupWgpHIe",
        "outputId": "519a9d69-d4aa-4d39-af95-44d19648bd6e"
      },
      "execution_count": null,
      "outputs": [
        {
          "output_type": "stream",
          "name": "stdout",
          "text": [
            "0.8074814460814995\n"
          ]
        },
        {
          "output_type": "execute_result",
          "data": {
            "text/plain": [
              "'crying'"
            ],
            "application/vnd.google.colaboratory.intrinsic+json": {
              "type": "string"
            }
          },
          "metadata": {},
          "execution_count": 8
        }
      ]
    }
  ]
}