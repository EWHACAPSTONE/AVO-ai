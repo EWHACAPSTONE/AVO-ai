{
  "nbformat": 4,
  "nbformat_minor": 0,
  "metadata": {
    "colab": {
      "provenance": []
    },
    "kernelspec": {
      "name": "python3",
      "display_name": "Python 3"
    },
    "language_info": {
      "name": "python"
    }
  },
  "cells": [
    {
      "cell_type": "code",
      "source": [
        "from google.colab import drive\n",
        "drive.mount('/content/drive')"
      ],
      "metadata": {
        "colab": {
          "base_uri": "https://localhost:8080/"
        },
        "id": "50O9drta4IjZ",
        "outputId": "d39cc4d8-001c-4783-9981-097e4049dc61"
      },
      "execution_count": 2,
      "outputs": [
        {
          "output_type": "stream",
          "name": "stdout",
          "text": [
            "Mounted at /content/drive\n"
          ]
        }
      ]
    },
    {
      "cell_type": "code",
      "execution_count": 3,
      "metadata": {
        "id": "UJ1tv6YF4EqX"
      },
      "outputs": [],
      "source": [
        "import joblib\n",
        "import numpy as np\n",
        "import librosa\n",
        "\n",
        "\n",
        "# 모델 로드\n",
        "model = joblib.load('/content/drive/MyDrive/model/final_model.pkl') ##모델 경로\n"
      ]
    },
    {
      "cell_type": "code",
      "source": [
        "def predict_sound(audio_file):\n",
        "  # 추임새 판별을 위한 임시 음성 파일 생성\n",
        "  labels = ['crying', 'shouting']\n",
        "  y, sr = librosa.load(audio_file, mono=True, duration=2)\n",
        "\n",
        "  mfcc = librosa.feature.mfcc(y=y, sr=sr)\n",
        "\n",
        "  buffer = []\n",
        "\n",
        "  for element in mfcc:\n",
        "    buffer.append(np.mean(element))  \n",
        "  x_test = np.array([buffer])\n",
        "\n",
        "  y_predict = model.predict(x_test)\n",
        "  label = labels[y_predict[0]]\n",
        "  y_predict = model.predict_proba(x_test)\n",
        "  confidence = y_predict[0][y_predict[0].argmax()]\n",
        "\n",
        "\n",
        "  if confidence < 0.7:\n",
        "    label = \"nothing\"\n",
        "\n",
        "  return label"
      ],
      "metadata": {
        "id": "txC1j-a34IAv"
      },
      "execution_count": 12,
      "outputs": []
    }
  ]
}